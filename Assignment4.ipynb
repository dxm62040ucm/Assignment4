{
  "nbformat": 4,
  "nbformat_minor": 0,
  "metadata": {
    "colab": {
      "provenance": []
    },
    "kernelspec": {
      "name": "python3",
      "display_name": "Python 3"
    },
    "language_info": {
      "name": "python"
    }
  },
  "cells": [
    {
      "cell_type": "markdown",
      "source": [
        "# New Section"
      ],
      "metadata": {
        "id": "3Vi1XQiTM-Kr"
      }
    },
    {
      "cell_type": "code",
      "source": [
        "#Data Manipulation\n",
        "#a. Read the provided CSV file ‘data.csv’\n",
        "import pandas as pd\n",
        "\n",
        "# Read the CSV file\n",
        "df = pd.read_csv('data.csv')\n",
        "\n",
        "# Show basic statistical description\n",
        "description = df.describe()\n",
        "print(\"Basic Statistical Description:\")\n",
        "print(description)\n",
        "\n",
        "# Check for null values\n",
        "null_values = df.isnull().sum()\n",
        "print(\"\\nNull Values:\")\n",
        "print(null_values)\n",
        "\n",
        "# Replace null values with the mean\n",
        "df.fillna(df.mean(), inplace=True)\n",
        "\n",
        "# Verify that null values have been replaced\n",
        "null_values_after_replace = df.isnull().sum()\n",
        "print(\"\\nNull Values after Replacement:\")\n",
        "print(null_values_after_replace)\n"
      ],
      "metadata": {
        "colab": {
          "base_uri": "https://localhost:8080/"
        },
        "id": "Bpysjx3RNJSe",
        "outputId": "8933b3b6-2afe-4ecd-f755-977721b28833"
      },
      "execution_count": 7,
      "outputs": [
        {
          "output_type": "stream",
          "name": "stdout",
          "text": [
            "Basic Statistical Description:\n",
            "         Duration       Pulse    Maxpulse     Calories\n",
            "count  169.000000  169.000000  169.000000   164.000000\n",
            "mean    63.846154  107.461538  134.047337   375.790244\n",
            "std     42.299949   14.510259   16.450434   266.379919\n",
            "min     15.000000   80.000000  100.000000    50.300000\n",
            "25%     45.000000  100.000000  124.000000   250.925000\n",
            "50%     60.000000  105.000000  131.000000   318.600000\n",
            "75%     60.000000  111.000000  141.000000   387.600000\n",
            "max    300.000000  159.000000  184.000000  1860.400000\n",
            "\n",
            "Null Values:\n",
            "Duration    0\n",
            "Pulse       0\n",
            "Maxpulse    0\n",
            "Calories    5\n",
            "dtype: int64\n",
            "\n",
            "Null Values after Replacement:\n",
            "Duration    0\n",
            "Pulse       0\n",
            "Maxpulse    0\n",
            "Calories    0\n",
            "dtype: int64\n"
          ]
        }
      ]
    },
    {
      "cell_type": "code",
      "source": [
        "#e. Select at least two columns and aggregate the data using: min, max, count, mean.\n",
        "selected_columns = ['Duration', 'Pulse']\n",
        "\n",
        "aggregated_data = df[selected_columns].agg({\n",
        "    'Duration': ['min', 'max', 'count', 'mean'],\n",
        "    'Pulse': ['min', 'max', 'count', 'mean']\n",
        "})\n",
        "\n",
        "print(\"\\nAggregated Data:\")\n",
        "print(aggregated_data)"
      ],
      "metadata": {
        "colab": {
          "base_uri": "https://localhost:8080/"
        },
        "id": "WzjRNCaaSm5N",
        "outputId": "d4a39388-1f1a-446f-8a97-34c4d453591e"
      },
      "execution_count": 8,
      "outputs": [
        {
          "output_type": "stream",
          "name": "stdout",
          "text": [
            "\n",
            "Aggregated Data:\n",
            "         Duration       Pulse\n",
            "min     15.000000   80.000000\n",
            "max    300.000000  159.000000\n",
            "count  169.000000  169.000000\n",
            "mean    63.846154  107.461538\n"
          ]
        }
      ]
    },
    {
      "cell_type": "code",
      "source": [
        "#Filter the dataframe to select the rows with calories values between 500 and 1000\n",
        "filtered_df = df[(df['Calories'] >= 500) & (df['Calories'] <= 1000)]\n",
        "print(\"\\nFiltered DataFrame with calories values between 500 and 1000:\")\n",
        "print(filtered_df)"
      ],
      "metadata": {
        "colab": {
          "base_uri": "https://localhost:8080/"
        },
        "id": "t2ZzcbmaTIE4",
        "outputId": "646e97c1-d0d9-41f2-9137-8395cbf51e45"
      },
      "execution_count": 9,
      "outputs": [
        {
          "output_type": "stream",
          "name": "stdout",
          "text": [
            "\n",
            "Filtered DataFrame with calories values between 500 and 1000:\n",
            "     Duration  Pulse  Maxpulse  Calories\n",
            "51         80    123       146     643.1\n",
            "62        160    109       135     853.0\n",
            "65        180     90       130     800.4\n",
            "66        150    105       135     873.4\n",
            "67        150    107       130     816.0\n",
            "72         90    100       127     700.0\n",
            "73        150     97       127     953.2\n",
            "75         90     98       125     563.2\n",
            "78        120    100       130     500.4\n",
            "83        120    100       130     500.0\n",
            "90        180    101       127     600.1\n",
            "99         90     93       124     604.1\n",
            "101        90     90       110     500.0\n",
            "102        90     90       100     500.0\n",
            "103        90     90       100     500.4\n",
            "106       180     90       120     800.3\n",
            "108        90     90       120     500.3\n"
          ]
        }
      ]
    },
    {
      "cell_type": "code",
      "source": [
        "#g. Filter the dataframe to select the rows with calories values > 500 and pulse < 100.\n",
        "filtered_rows = df[(df['Calories'] > 500) & (df['Pulse'] < 100)]\n",
        "print(\"\\nRows with Calories > 500 and Pulse < 100:\")\n",
        "print(filtered_rows)"
      ],
      "metadata": {
        "colab": {
          "base_uri": "https://localhost:8080/"
        },
        "id": "w8E2UTZjTlEg",
        "outputId": "7eefeb52-053b-4ae1-b556-445b5669fc84"
      },
      "execution_count": 10,
      "outputs": [
        {
          "output_type": "stream",
          "name": "stdout",
          "text": [
            "\n",
            "Rows with Calories > 500 and Pulse < 100:\n",
            "     Duration  Pulse  Maxpulse  Calories\n",
            "65        180     90       130     800.4\n",
            "70        150     97       129    1115.0\n",
            "73        150     97       127     953.2\n",
            "75         90     98       125     563.2\n",
            "99         90     93       124     604.1\n",
            "103        90     90       100     500.4\n",
            "106       180     90       120     800.3\n",
            "108        90     90       120     500.3\n"
          ]
        }
      ]
    },
    {
      "cell_type": "code",
      "source": [
        "#h. Create a new “df_modified” dataframe that contains all the columns from df except for\n",
        "#“Maxpulse”.\n",
        "df_modified = df.drop(columns=['Maxpulse'])\n",
        "print(\"\\nModified DataFrame (excluding 'Maxpulse'):\")\n",
        "print(df_modified)"
      ],
      "metadata": {
        "colab": {
          "base_uri": "https://localhost:8080/"
        },
        "id": "M0IcSCY2T7f7",
        "outputId": "3e0ee738-5e9e-456d-99b8-7d4968b7e0bd"
      },
      "execution_count": 11,
      "outputs": [
        {
          "output_type": "stream",
          "name": "stdout",
          "text": [
            "\n",
            "Modified DataFrame (excluding 'Maxpulse'):\n",
            "     Duration  Pulse  Calories\n",
            "0          60    110     409.1\n",
            "1          60    117     479.0\n",
            "2          60    103     340.0\n",
            "3          45    109     282.4\n",
            "4          45    117     406.0\n",
            "..        ...    ...       ...\n",
            "164        60    105     290.8\n",
            "165        60    110     300.0\n",
            "166        60    115     310.2\n",
            "167        75    120     320.4\n",
            "168        75    125     330.4\n",
            "\n",
            "[169 rows x 3 columns]\n"
          ]
        }
      ]
    },
    {
      "cell_type": "code",
      "source": [
        "#i. Delete the “Maxpulse” column from the main df dataframe\n",
        "df.drop(columns=['Maxpulse'], inplace=True)\n",
        "print(\"\\ndf (after removing Maxpulse column):\")\n",
        "print(df)"
      ],
      "metadata": {
        "colab": {
          "base_uri": "https://localhost:8080/"
        },
        "id": "mcEEhUAWUbDZ",
        "outputId": "e9b43e09-c5ca-4b9f-c5ac-f732cde6982b"
      },
      "execution_count": 12,
      "outputs": [
        {
          "output_type": "stream",
          "name": "stdout",
          "text": [
            "\n",
            "df (after removing Maxpulse column):\n",
            "     Duration  Pulse  Calories\n",
            "0          60    110     409.1\n",
            "1          60    117     479.0\n",
            "2          60    103     340.0\n",
            "3          45    109     282.4\n",
            "4          45    117     406.0\n",
            "..        ...    ...       ...\n",
            "164        60    105     290.8\n",
            "165        60    110     300.0\n",
            "166        60    115     310.2\n",
            "167        75    120     320.4\n",
            "168        75    125     330.4\n",
            "\n",
            "[169 rows x 3 columns]\n"
          ]
        }
      ]
    },
    {
      "cell_type": "code",
      "source": [
        "#j. Convert the datatype of Calories column to int datatype.\n",
        "df['Calories'] = df['Calories'].astype(int)\n",
        "print(\"\\nDataFrame after deleting 'Maxpulse' column:\")\n",
        "print(df)"
      ],
      "metadata": {
        "colab": {
          "base_uri": "https://localhost:8080/"
        },
        "id": "HzaVuis_U4H3",
        "outputId": "d8562793-7c4d-4651-e47c-22b16201ca45"
      },
      "execution_count": 13,
      "outputs": [
        {
          "output_type": "stream",
          "name": "stdout",
          "text": [
            "\n",
            "DataFrame after deleting 'Maxpulse' column:\n",
            "     Duration  Pulse  Calories\n",
            "0          60    110       409\n",
            "1          60    117       479\n",
            "2          60    103       340\n",
            "3          45    109       282\n",
            "4          45    117       406\n",
            "..        ...    ...       ...\n",
            "164        60    105       290\n",
            "165        60    110       300\n",
            "166        60    115       310\n",
            "167        75    120       320\n",
            "168        75    125       330\n",
            "\n",
            "[169 rows x 3 columns]\n"
          ]
        }
      ]
    },
    {
      "cell_type": "code",
      "source": [
        "#k. Using pandas create a scatter plot for the two columns (Duration and Calories).\n",
        "#Example\n",
        "import matplotlib.pyplot as plt\n",
        "plt.scatter(df['Duration'], df['Calories'])"
      ],
      "metadata": {
        "colab": {
          "base_uri": "https://localhost:8080/",
          "height": 449
        },
        "id": "g0ojgt2XVVJi",
        "outputId": "c5d514f5-5a17-4aee-fe8e-ccb817a66f52"
      },
      "execution_count": 15,
      "outputs": [
        {
          "output_type": "execute_result",
          "data": {
            "text/plain": [
              "<matplotlib.collections.PathCollection at 0x7a61c1296e00>"
            ]
          },
          "metadata": {},
          "execution_count": 15
        },
        {
          "output_type": "display_data",
          "data": {
            "text/plain": [
              "<Figure size 640x480 with 1 Axes>"
            ],
            "image/png": "[encoded data removed]"
          },
          "metadata": {}
        }
      ]
    },
    {
      "cell_type": "code",
      "source": [
        "#2a) Import the given “Salary_Data.csv”\n",
        "import pandas as pd\n",
        "\n",
        "# Read the CSV file\n",
        "df = pd.read_csv('Salary_Data (2).csv')\n",
        "print(df)\n"
      ],
      "metadata": {
        "colab": {
          "base_uri": "https://localhost:8080/"
        },
        "id": "2E_T2o80WDzE",
        "outputId": "211699a5-7482-4f9f-a2f5-5a2d0250c047"
      },
      "execution_count": 19,
      "outputs": [
        {
          "output_type": "stream",
          "name": "stdout",
          "text": [
            "    YearsExperience    Salary\n",
            "0               1.1   39343.0\n",
            "1               1.3   46205.0\n",
            "2               1.5   37731.0\n",
            "3               2.0   43525.0\n",
            "4               2.2   39891.0\n",
            "5               2.9   56642.0\n",
            "6               3.0   60150.0\n",
            "7               3.2   54445.0\n",
            "8               3.2   64445.0\n",
            "9               3.7   57189.0\n",
            "10              3.9   63218.0\n",
            "11              4.0   55794.0\n",
            "12              4.0   56957.0\n",
            "13              4.1   57081.0\n",
            "14              4.5   61111.0\n",
            "15              4.9   67938.0\n",
            "16              5.1   66029.0\n",
            "17              5.3   83088.0\n",
            "18              5.9   81363.0\n",
            "19              6.0   93940.0\n",
            "20              6.8   91738.0\n",
            "21              7.1   98273.0\n",
            "22              7.9  101302.0\n",
            "23              8.2  113812.0\n",
            "24              8.7  109431.0\n",
            "25              9.0  105582.0\n",
            "26              9.5  116969.0\n",
            "27              9.6  112635.0\n",
            "28             10.3  122391.0\n",
            "29             10.5  121872.0\n"
          ]
        }
      ]
    },
    {
      "cell_type": "code",
      "source": [
        "#b) Split the data in train_test partitions, such that 1/3 of the data is reserved as test subset.\n",
        "from sklearn.model_selection import train_test_split\n",
        "train_set, test_set = train_test_split(df, test_size=1/3, random_state=42)\n",
        "\n",
        "# Display the training and testing sets\n",
        "print(\"Training Set:\")\n",
        "print(train_set)\n",
        "print(\"\\nTesting Set:\")\n",
        "print(test_set)"
      ],
      "metadata": {
        "colab": {
          "base_uri": "https://localhost:8080/"
        },
        "id": "9kI-iKYdXmyQ",
        "outputId": "b40da4a3-a61b-4011-f5d0-26df69c0fa53"
      },
      "execution_count": 20,
      "outputs": [
        {
          "output_type": "stream",
          "name": "stdout",
          "text": [
            "Training Set:\n",
            "    YearsExperience    Salary\n",
            "4               2.2   39891.0\n",
            "16              5.1   66029.0\n",
            "5               2.9   56642.0\n",
            "13              4.1   57081.0\n",
            "11              4.0   55794.0\n",
            "22              7.9  101302.0\n",
            "1               1.3   46205.0\n",
            "2               1.5   37731.0\n",
            "25              9.0  105582.0\n",
            "3               2.0   43525.0\n",
            "21              7.1   98273.0\n",
            "26              9.5  116969.0\n",
            "18              5.9   81363.0\n",
            "29             10.5  121872.0\n",
            "20              6.8   91738.0\n",
            "7               3.2   54445.0\n",
            "10              3.9   63218.0\n",
            "14              4.5   61111.0\n",
            "19              6.0   93940.0\n",
            "6               3.0   60150.0\n",
            "\n",
            "Testing Set:\n",
            "    YearsExperience    Salary\n",
            "27              9.6  112635.0\n",
            "15              4.9   67938.0\n",
            "23              8.2  113812.0\n",
            "17              5.3   83088.0\n",
            "8               3.2   64445.0\n",
            "9               3.7   57189.0\n",
            "28             10.3  122391.0\n",
            "24              8.7  109431.0\n",
            "12              4.0   56957.0\n",
            "0               1.1   39343.0\n"
          ]
        }
      ]
    },
    {
      "cell_type": "code",
      "source": [
        "#c) Train and predict the model\n",
        "from sklearn.linear_model import LinearRegression\n",
        "X_train, X_test, y_train, y_test = train_test_split(df[['YearsExperience']], df['Salary'], test_size=1/3, random_state=42)\n",
        "\n",
        "\n",
        "# Train the linear regression model\n",
        "model = LinearRegression()\n",
        "model.fit(X_train, y_train)\n",
        "\n",
        "# Predict on the test set\n",
        "y_pred = model.predict(X_test)\n",
        "\n",
        "# Display the predicted values and the actual values in the test set\n",
        "result_df = pd.DataFrame({'Actual Salary': y_test, 'Predicted Salary': y_pred})\n",
        "print(result_df)"
      ],
      "metadata": {
        "colab": {
          "base_uri": "https://localhost:8080/"
        },
        "id": "YSyRjoRvYroF",
        "outputId": "917e5e96-ffea-43c0-a74a-86bb8b658915"
      },
      "execution_count": 21,
      "outputs": [
        {
          "output_type": "stream",
          "name": "stdout",
          "text": [
            "    Actual Salary  Predicted Salary\n",
            "27       112635.0     115814.307562\n",
            "15        67938.0      71511.925348\n",
            "23       113812.0     102617.853286\n",
            "17        83088.0      75282.340855\n",
            "8         64445.0      55487.659440\n",
            "9         57189.0      60200.678825\n",
            "28       122391.0     122412.534701\n",
            "24       109431.0     107330.872670\n",
            "12        56957.0      63028.490456\n",
            "0         39343.0      35692.978025\n"
          ]
        }
      ]
    },
    {
      "cell_type": "code",
      "source": [
        "#d) Calculate the mean_squared error\n",
        "from sklearn.metrics import mean_squared_error\n",
        "# Calculate the mean squared error\n",
        "mse = mean_squared_error(y_test, y_pred)\n",
        "\n",
        "# Display the results\n",
        "print(f'Mean Squared Error: {mse}')"
      ],
      "metadata": {
        "colab": {
          "base_uri": "https://localhost:8080/"
        },
        "id": "ftfzPnLuZgOR",
        "outputId": "bde3ee0a-3787-4241-abc7-ee4450a0d640"
      },
      "execution_count": 22,
      "outputs": [
        {
          "output_type": "stream",
          "name": "stdout",
          "text": [
            "Mean Squared Error: 35301898.887134895\n"
          ]
        }
      ]
    },
    {
      "cell_type": "code",
      "source": [
        "#e) Visualize both train and test data using scatter plot\n",
        "import matplotlib.pyplot as plt\n",
        "\n",
        "plt.scatter(X_train, y_train, label='Train Data')\n",
        "plt.scatter(X_test, y_test, label='Test Data', marker='x')"
      ],
      "metadata": {
        "colab": {
          "base_uri": "https://localhost:8080/",
          "height": 449
        },
        "id": "kvLzRk1RZ-Q7",
        "outputId": "1c48949d-260a-4837-bc90-ddeef32aa615"
      },
      "execution_count": 23,
      "outputs": [
        {
          "output_type": "execute_result",
          "data": {
            "text/plain": [
              "<matplotlib.collections.PathCollection at 0x7a61b6e79de0>"
            ]
          },
          "metadata": {},
          "execution_count": 23
        },
        {
          "output_type": "display_data",
          "data": {
            "text/plain": [
              "<Figure size 640x480 with 1 Axes>"
            ],
            "image/png": "[encoded data removed]"
          },
          "metadata": {}
        }
      ]
    }
  ]
}